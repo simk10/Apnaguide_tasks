{
 "cells": [
  {
   "cell_type": "code",
   "execution_count": 1,
   "id": "754c3800",
   "metadata": {
    "_cell_guid": "b1076dfc-b9ad-4769-8c92-a6c4dae69d19",
    "_uuid": "8f2839f25d086af736a60e9eeb907d3b93b6e0e5",
    "execution": {
     "iopub.execute_input": "2024-06-14T14:32:40.818300Z",
     "iopub.status.busy": "2024-06-14T14:32:40.817825Z",
     "iopub.status.idle": "2024-06-14T14:32:41.963989Z",
     "shell.execute_reply": "2024-06-14T14:32:41.962212Z"
    },
    "papermill": {
     "duration": 1.158111,
     "end_time": "2024-06-14T14:32:41.967204",
     "exception": false,
     "start_time": "2024-06-14T14:32:40.809093",
     "status": "completed"
    },
    "tags": []
   },
   "outputs": [
    {
     "name": "stdout",
     "output_type": "stream",
     "text": [
      "/kaggle/input/customer-churn/Churn-Data.csv\n"
     ]
    }
   ],
   "source": [
    "\n",
    "#Loading dataset\n",
    "import numpy as np \n",
    "import pandas as pd \n",
    "\n",
    "\n",
    "import os\n",
    "for dirname, _, filenames in os.walk('/kaggle/input'):\n",
    "    for filename in filenames:\n",
    "        print(os.path.join(dirname, filename))\n",
    "\n"
   ]
  },
  {
   "cell_type": "code",
   "execution_count": 2,
   "id": "ba2fe24d",
   "metadata": {
    "execution": {
     "iopub.execute_input": "2024-06-14T14:32:41.982372Z",
     "iopub.status.busy": "2024-06-14T14:32:41.981714Z",
     "iopub.status.idle": "2024-06-14T14:32:42.058362Z",
     "shell.execute_reply": "2024-06-14T14:32:42.056843Z"
    },
    "papermill": {
     "duration": 0.087925,
     "end_time": "2024-06-14T14:32:42.061562",
     "exception": false,
     "start_time": "2024-06-14T14:32:41.973637",
     "status": "completed"
    },
    "tags": []
   },
   "outputs": [],
   "source": [
    "ds = pd.read_csv(\"/kaggle/input/customer-churn/Churn-Data.csv\", index_col=0)"
   ]
  },
  {
   "cell_type": "code",
   "execution_count": 3,
   "id": "f49171c7",
   "metadata": {
    "execution": {
     "iopub.execute_input": "2024-06-14T14:32:42.075904Z",
     "iopub.status.busy": "2024-06-14T14:32:42.075422Z",
     "iopub.status.idle": "2024-06-14T14:32:42.108158Z",
     "shell.execute_reply": "2024-06-14T14:32:42.106749Z"
    },
    "papermill": {
     "duration": 0.043975,
     "end_time": "2024-06-14T14:32:42.111675",
     "exception": false,
     "start_time": "2024-06-14T14:32:42.067700",
     "status": "completed"
    },
    "tags": []
   },
   "outputs": [
    {
     "name": "stdout",
     "output_type": "stream",
     "text": [
      "(5634, 20)\n"
     ]
    },
    {
     "data": {
      "text/html": [
       "<div>\n",
       "<style scoped>\n",
       "    .dataframe tbody tr th:only-of-type {\n",
       "        vertical-align: middle;\n",
       "    }\n",
       "\n",
       "    .dataframe tbody tr th {\n",
       "        vertical-align: top;\n",
       "    }\n",
       "\n",
       "    .dataframe thead th {\n",
       "        text-align: right;\n",
       "    }\n",
       "</style>\n",
       "<table border=\"1\" class=\"dataframe\">\n",
       "  <thead>\n",
       "    <tr style=\"text-align: right;\">\n",
       "      <th></th>\n",
       "      <th>gender</th>\n",
       "      <th>SeniorCitizen</th>\n",
       "      <th>Partner</th>\n",
       "      <th>Dependents</th>\n",
       "      <th>tenure</th>\n",
       "      <th>PhoneService</th>\n",
       "      <th>MultipleLines</th>\n",
       "      <th>InternetService</th>\n",
       "      <th>OnlineSecurity</th>\n",
       "      <th>OnlineBackup</th>\n",
       "      <th>DeviceProtection</th>\n",
       "      <th>TechSupport</th>\n",
       "      <th>TV_Streaming</th>\n",
       "      <th>Movie_Streaming</th>\n",
       "      <th>Contract</th>\n",
       "      <th>PaperlessBilling</th>\n",
       "      <th>Method_Payment</th>\n",
       "      <th>Charges_Month</th>\n",
       "      <th>TotalCharges</th>\n",
       "      <th>Churn</th>\n",
       "    </tr>\n",
       "    <tr>\n",
       "      <th>cID</th>\n",
       "      <th></th>\n",
       "      <th></th>\n",
       "      <th></th>\n",
       "      <th></th>\n",
       "      <th></th>\n",
       "      <th></th>\n",
       "      <th></th>\n",
       "      <th></th>\n",
       "      <th></th>\n",
       "      <th></th>\n",
       "      <th></th>\n",
       "      <th></th>\n",
       "      <th></th>\n",
       "      <th></th>\n",
       "      <th></th>\n",
       "      <th></th>\n",
       "      <th></th>\n",
       "      <th></th>\n",
       "      <th></th>\n",
       "      <th></th>\n",
       "    </tr>\n",
       "  </thead>\n",
       "  <tbody>\n",
       "    <tr>\n",
       "      <th>4223-BKEOR</th>\n",
       "      <td>Female</td>\n",
       "      <td>0</td>\n",
       "      <td>No</td>\n",
       "      <td>Yes</td>\n",
       "      <td>21</td>\n",
       "      <td>Yes</td>\n",
       "      <td>No</td>\n",
       "      <td>DSL</td>\n",
       "      <td>Yes</td>\n",
       "      <td>No</td>\n",
       "      <td>Yes</td>\n",
       "      <td>No</td>\n",
       "      <td>No</td>\n",
       "      <td>Yes</td>\n",
       "      <td>One year</td>\n",
       "      <td>No</td>\n",
       "      <td>Mailed check</td>\n",
       "      <td>64.85</td>\n",
       "      <td>1336.8</td>\n",
       "      <td>No</td>\n",
       "    </tr>\n",
       "    <tr>\n",
       "      <th>6035-RIIOM</th>\n",
       "      <td>Female</td>\n",
       "      <td>0</td>\n",
       "      <td>No</td>\n",
       "      <td>No</td>\n",
       "      <td>54</td>\n",
       "      <td>Yes</td>\n",
       "      <td>Yes</td>\n",
       "      <td>Fiber optic</td>\n",
       "      <td>No</td>\n",
       "      <td>Yes</td>\n",
       "      <td>No</td>\n",
       "      <td>No</td>\n",
       "      <td>Yes</td>\n",
       "      <td>Yes</td>\n",
       "      <td>Two year</td>\n",
       "      <td>Yes</td>\n",
       "      <td>Bank transfer (automatic)</td>\n",
       "      <td>97.20</td>\n",
       "      <td>5129.45</td>\n",
       "      <td>No</td>\n",
       "    </tr>\n",
       "    <tr>\n",
       "      <th>3797-VTIDR</th>\n",
       "      <td>Male</td>\n",
       "      <td>0</td>\n",
       "      <td>Yes</td>\n",
       "      <td>No</td>\n",
       "      <td>1</td>\n",
       "      <td>No</td>\n",
       "      <td>No phone service</td>\n",
       "      <td>DSL</td>\n",
       "      <td>No</td>\n",
       "      <td>No</td>\n",
       "      <td>No</td>\n",
       "      <td>No</td>\n",
       "      <td>No</td>\n",
       "      <td>No</td>\n",
       "      <td>Month-to-month</td>\n",
       "      <td>Yes</td>\n",
       "      <td>Electronic check</td>\n",
       "      <td>23.45</td>\n",
       "      <td>23.45</td>\n",
       "      <td>Yes</td>\n",
       "    </tr>\n",
       "    <tr>\n",
       "      <th>2568-BRGYX</th>\n",
       "      <td>Male</td>\n",
       "      <td>0</td>\n",
       "      <td>No</td>\n",
       "      <td>No</td>\n",
       "      <td>4</td>\n",
       "      <td>Yes</td>\n",
       "      <td>No</td>\n",
       "      <td>Fiber optic</td>\n",
       "      <td>No</td>\n",
       "      <td>No</td>\n",
       "      <td>No</td>\n",
       "      <td>No</td>\n",
       "      <td>No</td>\n",
       "      <td>No</td>\n",
       "      <td>Month-to-month</td>\n",
       "      <td>Yes</td>\n",
       "      <td>Electronic check</td>\n",
       "      <td>70.20</td>\n",
       "      <td>237.95</td>\n",
       "      <td>Yes</td>\n",
       "    </tr>\n",
       "    <tr>\n",
       "      <th>2775-SEFEE</th>\n",
       "      <td>Male</td>\n",
       "      <td>0</td>\n",
       "      <td>No</td>\n",
       "      <td>Yes</td>\n",
       "      <td>0</td>\n",
       "      <td>Yes</td>\n",
       "      <td>Yes</td>\n",
       "      <td>DSL</td>\n",
       "      <td>Yes</td>\n",
       "      <td>Yes</td>\n",
       "      <td>No</td>\n",
       "      <td>Yes</td>\n",
       "      <td>No</td>\n",
       "      <td>No</td>\n",
       "      <td>Two year</td>\n",
       "      <td>Yes</td>\n",
       "      <td>Bank transfer (automatic)</td>\n",
       "      <td>61.90</td>\n",
       "      <td></td>\n",
       "      <td>No</td>\n",
       "    </tr>\n",
       "  </tbody>\n",
       "</table>\n",
       "</div>"
      ],
      "text/plain": [
       "            gender  SeniorCitizen Partner Dependents  tenure PhoneService  \\\n",
       "cID                                                                         \n",
       "4223-BKEOR  Female              0      No        Yes      21          Yes   \n",
       "6035-RIIOM  Female              0      No         No      54          Yes   \n",
       "3797-VTIDR    Male              0     Yes         No       1           No   \n",
       "2568-BRGYX    Male              0      No         No       4          Yes   \n",
       "2775-SEFEE    Male              0      No        Yes       0          Yes   \n",
       "\n",
       "               MultipleLines InternetService OnlineSecurity OnlineBackup  \\\n",
       "cID                                                                        \n",
       "4223-BKEOR                No             DSL            Yes           No   \n",
       "6035-RIIOM               Yes     Fiber optic             No          Yes   \n",
       "3797-VTIDR  No phone service             DSL             No           No   \n",
       "2568-BRGYX                No     Fiber optic             No           No   \n",
       "2775-SEFEE               Yes             DSL            Yes          Yes   \n",
       "\n",
       "           DeviceProtection TechSupport TV_Streaming Movie_Streaming  \\\n",
       "cID                                                                    \n",
       "4223-BKEOR              Yes          No           No             Yes   \n",
       "6035-RIIOM               No          No          Yes             Yes   \n",
       "3797-VTIDR               No          No           No              No   \n",
       "2568-BRGYX               No          No           No              No   \n",
       "2775-SEFEE               No         Yes           No              No   \n",
       "\n",
       "                  Contract PaperlessBilling             Method_Payment  \\\n",
       "cID                                                                      \n",
       "4223-BKEOR        One year               No               Mailed check   \n",
       "6035-RIIOM        Two year              Yes  Bank transfer (automatic)   \n",
       "3797-VTIDR  Month-to-month              Yes           Electronic check   \n",
       "2568-BRGYX  Month-to-month              Yes           Electronic check   \n",
       "2775-SEFEE        Two year              Yes  Bank transfer (automatic)   \n",
       "\n",
       "            Charges_Month TotalCharges Churn  \n",
       "cID                                           \n",
       "4223-BKEOR          64.85       1336.8    No  \n",
       "6035-RIIOM          97.20      5129.45    No  \n",
       "3797-VTIDR          23.45        23.45   Yes  \n",
       "2568-BRGYX          70.20       237.95   Yes  \n",
       "2775-SEFEE          61.90                 No  "
      ]
     },
     "execution_count": 3,
     "metadata": {},
     "output_type": "execute_result"
    }
   ],
   "source": [
    "# first things first\n",
    "#understanding data\n",
    "print(ds.shape)\n",
    "ds.head()"
   ]
  },
  {
   "cell_type": "code",
   "execution_count": 4,
   "id": "451f93ae",
   "metadata": {
    "execution": {
     "iopub.execute_input": "2024-06-14T14:32:42.127480Z",
     "iopub.status.busy": "2024-06-14T14:32:42.127031Z",
     "iopub.status.idle": "2024-06-14T14:32:42.157707Z",
     "shell.execute_reply": "2024-06-14T14:32:42.156002Z"
    },
    "papermill": {
     "duration": 0.042127,
     "end_time": "2024-06-14T14:32:42.160863",
     "exception": false,
     "start_time": "2024-06-14T14:32:42.118736",
     "status": "completed"
    },
    "tags": []
   },
   "outputs": [
    {
     "data": {
      "text/html": [
       "<div>\n",
       "<style scoped>\n",
       "    .dataframe tbody tr th:only-of-type {\n",
       "        vertical-align: middle;\n",
       "    }\n",
       "\n",
       "    .dataframe tbody tr th {\n",
       "        vertical-align: top;\n",
       "    }\n",
       "\n",
       "    .dataframe thead th {\n",
       "        text-align: right;\n",
       "    }\n",
       "</style>\n",
       "<table border=\"1\" class=\"dataframe\">\n",
       "  <thead>\n",
       "    <tr style=\"text-align: right;\">\n",
       "      <th></th>\n",
       "      <th>SeniorCitizen</th>\n",
       "      <th>tenure</th>\n",
       "      <th>Charges_Month</th>\n",
       "    </tr>\n",
       "  </thead>\n",
       "  <tbody>\n",
       "    <tr>\n",
       "      <th>count</th>\n",
       "      <td>5634.000000</td>\n",
       "      <td>5634.000000</td>\n",
       "      <td>5634.000000</td>\n",
       "    </tr>\n",
       "    <tr>\n",
       "      <th>mean</th>\n",
       "      <td>0.160809</td>\n",
       "      <td>32.373092</td>\n",
       "      <td>64.864253</td>\n",
       "    </tr>\n",
       "    <tr>\n",
       "      <th>std</th>\n",
       "      <td>0.367388</td>\n",
       "      <td>24.424539</td>\n",
       "      <td>30.089324</td>\n",
       "    </tr>\n",
       "    <tr>\n",
       "      <th>min</th>\n",
       "      <td>0.000000</td>\n",
       "      <td>0.000000</td>\n",
       "      <td>18.250000</td>\n",
       "    </tr>\n",
       "    <tr>\n",
       "      <th>25%</th>\n",
       "      <td>0.000000</td>\n",
       "      <td>9.000000</td>\n",
       "      <td>35.750000</td>\n",
       "    </tr>\n",
       "    <tr>\n",
       "      <th>50%</th>\n",
       "      <td>0.000000</td>\n",
       "      <td>29.000000</td>\n",
       "      <td>70.525000</td>\n",
       "    </tr>\n",
       "    <tr>\n",
       "      <th>75%</th>\n",
       "      <td>0.000000</td>\n",
       "      <td>55.000000</td>\n",
       "      <td>89.937500</td>\n",
       "    </tr>\n",
       "    <tr>\n",
       "      <th>max</th>\n",
       "      <td>1.000000</td>\n",
       "      <td>72.000000</td>\n",
       "      <td>118.600000</td>\n",
       "    </tr>\n",
       "  </tbody>\n",
       "</table>\n",
       "</div>"
      ],
      "text/plain": [
       "       SeniorCitizen       tenure  Charges_Month\n",
       "count    5634.000000  5634.000000    5634.000000\n",
       "mean        0.160809    32.373092      64.864253\n",
       "std         0.367388    24.424539      30.089324\n",
       "min         0.000000     0.000000      18.250000\n",
       "25%         0.000000     9.000000      35.750000\n",
       "50%         0.000000    29.000000      70.525000\n",
       "75%         0.000000    55.000000      89.937500\n",
       "max         1.000000    72.000000     118.600000"
      ]
     },
     "execution_count": 4,
     "metadata": {},
     "output_type": "execute_result"
    }
   ],
   "source": [
    "ds.describe()"
   ]
  },
  {
   "cell_type": "code",
   "execution_count": 5,
   "id": "ac958b38",
   "metadata": {
    "execution": {
     "iopub.execute_input": "2024-06-14T14:32:42.176784Z",
     "iopub.status.busy": "2024-06-14T14:32:42.176308Z",
     "iopub.status.idle": "2024-06-14T14:32:42.185802Z",
     "shell.execute_reply": "2024-06-14T14:32:42.184668Z"
    },
    "papermill": {
     "duration": 0.02053,
     "end_time": "2024-06-14T14:32:42.188269",
     "exception": false,
     "start_time": "2024-06-14T14:32:42.167739",
     "status": "completed"
    },
    "tags": []
   },
   "outputs": [
    {
     "data": {
      "text/plain": [
       "gender               object\n",
       "SeniorCitizen         int64\n",
       "Partner              object\n",
       "Dependents           object\n",
       "tenure                int64\n",
       "PhoneService         object\n",
       "MultipleLines        object\n",
       "InternetService      object\n",
       "OnlineSecurity       object\n",
       "OnlineBackup         object\n",
       "DeviceProtection     object\n",
       "TechSupport          object\n",
       "TV_Streaming         object\n",
       "Movie_Streaming      object\n",
       "Contract             object\n",
       "PaperlessBilling     object\n",
       "Method_Payment       object\n",
       "Charges_Month       float64\n",
       "TotalCharges         object\n",
       "Churn                object\n",
       "dtype: object"
      ]
     },
     "execution_count": 5,
     "metadata": {},
     "output_type": "execute_result"
    }
   ],
   "source": [
    "#Let us understand data types and make changes if they are not correct\n",
    "ds.dtypes"
   ]
  },
  {
   "cell_type": "code",
   "execution_count": 6,
   "id": "c8e27d39",
   "metadata": {
    "execution": {
     "iopub.execute_input": "2024-06-14T14:32:42.204766Z",
     "iopub.status.busy": "2024-06-14T14:32:42.204346Z",
     "iopub.status.idle": "2024-06-14T14:32:42.216405Z",
     "shell.execute_reply": "2024-06-14T14:32:42.214850Z"
    },
    "papermill": {
     "duration": 0.024349,
     "end_time": "2024-06-14T14:32:42.219942",
     "exception": false,
     "start_time": "2024-06-14T14:32:42.195593",
     "status": "completed"
    },
    "tags": []
   },
   "outputs": [
    {
     "name": "stdout",
     "output_type": "stream",
     "text": [
      "gender               object\n",
      "SeniorCitizen         int64\n",
      "Partner              object\n",
      "Dependents           object\n",
      "tenure                int64\n",
      "PhoneService         object\n",
      "MultipleLines        object\n",
      "InternetService      object\n",
      "OnlineSecurity       object\n",
      "OnlineBackup         object\n",
      "DeviceProtection     object\n",
      "TechSupport          object\n",
      "TV_Streaming         object\n",
      "Movie_Streaming      object\n",
      "Contract             object\n",
      "PaperlessBilling     object\n",
      "Method_Payment       object\n",
      "Charges_Month       float64\n",
      "TotalCharges        float64\n",
      "Churn                object\n",
      "dtype: object\n"
     ]
    }
   ],
   "source": [
    "#updating data types\n",
    "ds['TotalCharges'] = pd.to_numeric(ds['TotalCharges'], errors='coerce')\n",
    "ds['SeniorCitizen']=ds['SeniorCitizen'].astype(int)\n",
    "# Checking data types after conversion\n",
    "print(ds.dtypes)\n"
   ]
  },
  {
   "cell_type": "code",
   "execution_count": 7,
   "id": "7edf95b0",
   "metadata": {
    "execution": {
     "iopub.execute_input": "2024-06-14T14:32:42.238418Z",
     "iopub.status.busy": "2024-06-14T14:32:42.237940Z",
     "iopub.status.idle": "2024-06-14T14:32:42.246891Z",
     "shell.execute_reply": "2024-06-14T14:32:42.245381Z"
    },
    "papermill": {
     "duration": 0.022006,
     "end_time": "2024-06-14T14:32:42.249727",
     "exception": false,
     "start_time": "2024-06-14T14:32:42.227721",
     "status": "completed"
    },
    "tags": []
   },
   "outputs": [
    {
     "name": "stdout",
     "output_type": "stream",
     "text": [
      "['gender', 'Partner', 'Dependents', 'PhoneService', 'MultipleLines', 'InternetService', 'OnlineSecurity', 'OnlineBackup', 'DeviceProtection', 'TechSupport', 'TV_Streaming', 'Movie_Streaming', 'Contract', 'PaperlessBilling', 'Method_Payment', 'Churn']\n",
      "['SeniorCitizen', 'tenure', 'Charges_Month', 'TotalCharges']\n"
     ]
    }
   ],
   "source": [
    "#seperating catergorical and numerical variables\n",
    "# categorical Variables\n",
    "categorical_variables = [col for col in ds.columns if\n",
    "                        ds[col].dtype == \"object\"]\n",
    "\n",
    "print(categorical_variables)\n",
    "\n",
    "# categorical Variables\n",
    "numeric_variables = [col for col in ds.columns if\n",
    "                        ds[col].dtype != \"object\"]\n",
    "\n",
    "print(numeric_variables)"
   ]
  },
  {
   "cell_type": "code",
   "execution_count": 8,
   "id": "e881079f",
   "metadata": {
    "execution": {
     "iopub.execute_input": "2024-06-14T14:32:42.267045Z",
     "iopub.status.busy": "2024-06-14T14:32:42.266589Z",
     "iopub.status.idle": "2024-06-14T14:32:42.282824Z",
     "shell.execute_reply": "2024-06-14T14:32:42.281267Z"
    },
    "papermill": {
     "duration": 0.028637,
     "end_time": "2024-06-14T14:32:42.285691",
     "exception": false,
     "start_time": "2024-06-14T14:32:42.257054",
     "status": "completed"
    },
    "tags": []
   },
   "outputs": [
    {
     "data": {
      "text/plain": [
       "gender               0\n",
       "SeniorCitizen        0\n",
       "Partner              0\n",
       "Dependents           0\n",
       "tenure               0\n",
       "PhoneService         0\n",
       "MultipleLines        0\n",
       "InternetService      0\n",
       "OnlineSecurity       0\n",
       "OnlineBackup         0\n",
       "DeviceProtection     0\n",
       "TechSupport          0\n",
       "TV_Streaming         0\n",
       "Movie_Streaming      0\n",
       "Contract             0\n",
       "PaperlessBilling     0\n",
       "Method_Payment       0\n",
       "Charges_Month        0\n",
       "TotalCharges        10\n",
       "Churn                0\n",
       "dtype: int64"
      ]
     },
     "execution_count": 8,
     "metadata": {},
     "output_type": "execute_result"
    }
   ],
   "source": [
    "#checking null values\n",
    "ds.isnull().sum()\n"
   ]
  },
  {
   "cell_type": "code",
   "execution_count": 9,
   "id": "b5821c26",
   "metadata": {
    "execution": {
     "iopub.execute_input": "2024-06-14T14:32:42.302699Z",
     "iopub.status.busy": "2024-06-14T14:32:42.302166Z",
     "iopub.status.idle": "2024-06-14T14:32:42.317939Z",
     "shell.execute_reply": "2024-06-14T14:32:42.316605Z"
    },
    "papermill": {
     "duration": 0.028696,
     "end_time": "2024-06-14T14:32:42.321526",
     "exception": false,
     "start_time": "2024-06-14T14:32:42.292830",
     "status": "completed"
    },
    "tags": []
   },
   "outputs": [],
   "source": [
    "# as null values are few , I decided to drop them. There are various ways to handle missing values.\n",
    "ds_new=ds.dropna(subset=['TotalCharges'])"
   ]
  },
  {
   "cell_type": "code",
   "execution_count": 10,
   "id": "d9f80abb",
   "metadata": {
    "execution": {
     "iopub.execute_input": "2024-06-14T14:32:42.339258Z",
     "iopub.status.busy": "2024-06-14T14:32:42.338295Z",
     "iopub.status.idle": "2024-06-14T14:32:42.353912Z",
     "shell.execute_reply": "2024-06-14T14:32:42.352351Z"
    },
    "papermill": {
     "duration": 0.027196,
     "end_time": "2024-06-14T14:32:42.356553",
     "exception": false,
     "start_time": "2024-06-14T14:32:42.329357",
     "status": "completed"
    },
    "tags": []
   },
   "outputs": [
    {
     "data": {
      "text/plain": [
       "gender              0\n",
       "SeniorCitizen       0\n",
       "Partner             0\n",
       "Dependents          0\n",
       "tenure              0\n",
       "PhoneService        0\n",
       "MultipleLines       0\n",
       "InternetService     0\n",
       "OnlineSecurity      0\n",
       "OnlineBackup        0\n",
       "DeviceProtection    0\n",
       "TechSupport         0\n",
       "TV_Streaming        0\n",
       "Movie_Streaming     0\n",
       "Contract            0\n",
       "PaperlessBilling    0\n",
       "Method_Payment      0\n",
       "Charges_Month       0\n",
       "TotalCharges        0\n",
       "Churn               0\n",
       "dtype: int64"
      ]
     },
     "execution_count": 10,
     "metadata": {},
     "output_type": "execute_result"
    }
   ],
   "source": [
    "#checking null values again\n",
    "ds_new.isnull().sum()\n"
   ]
  },
  {
   "cell_type": "code",
   "execution_count": 11,
   "id": "bc0b2946",
   "metadata": {
    "execution": {
     "iopub.execute_input": "2024-06-14T14:32:42.375053Z",
     "iopub.status.busy": "2024-06-14T14:32:42.374616Z",
     "iopub.status.idle": "2024-06-14T14:32:42.385162Z",
     "shell.execute_reply": "2024-06-14T14:32:42.383534Z"
    },
    "papermill": {
     "duration": 0.023601,
     "end_time": "2024-06-14T14:32:42.388615",
     "exception": false,
     "start_time": "2024-06-14T14:32:42.365014",
     "status": "completed"
    },
    "tags": []
   },
   "outputs": [
    {
     "name": "stdout",
     "output_type": "stream",
     "text": [
      "0.23994628255612013\n",
      "-1.3780275276506855\n",
      "-0.22624795699600828\n",
      "-1.2605568333807544\n"
     ]
    }
   ],
   "source": [
    "# checking outliers with help of skewness and kurtosis \n",
    "print(ds['tenure'].skew())\n",
    "print(ds['tenure'].kurt())\n",
    "print(ds['Charges_Month'].skew())\n",
    "print(ds['Charges_Month'].kurt())"
   ]
  },
  {
   "cell_type": "code",
   "execution_count": 12,
   "id": "b5f43457",
   "metadata": {
    "execution": {
     "iopub.execute_input": "2024-06-14T14:32:42.406536Z",
     "iopub.status.busy": "2024-06-14T14:32:42.406051Z",
     "iopub.status.idle": "2024-06-14T14:32:42.413648Z",
     "shell.execute_reply": "2024-06-14T14:32:42.412079Z"
    },
    "papermill": {
     "duration": 0.019876,
     "end_time": "2024-06-14T14:32:42.416453",
     "exception": false,
     "start_time": "2024-06-14T14:32:42.396577",
     "status": "completed"
    },
    "tags": []
   },
   "outputs": [],
   "source": [
    "# To determine the threshold value for outliers\n",
    "def outlier_thresholds(dataframe, variable, low_quantile=0.05, up_quantile=0.95):\n",
    "    quantile_one = dataframe[variable].quantile(low_quantile)\n",
    "    quantile_three = dataframe[variable].quantile(up_quantile)\n",
    "    interquantile_range = quantile_three - quantile_one\n",
    "    up_limit = quantile_three + 1.5 * interquantile_range\n",
    "    low_limit = quantile_one - 1.5 * interquantile_range\n",
    "    return low_limit, up_limit"
   ]
  },
  {
   "cell_type": "code",
   "execution_count": 13,
   "id": "122cf07d",
   "metadata": {
    "execution": {
     "iopub.execute_input": "2024-06-14T14:32:42.433289Z",
     "iopub.status.busy": "2024-06-14T14:32:42.432830Z",
     "iopub.status.idle": "2024-06-14T14:32:42.440943Z",
     "shell.execute_reply": "2024-06-14T14:32:42.439641Z"
    },
    "papermill": {
     "duration": 0.019431,
     "end_time": "2024-06-14T14:32:42.443392",
     "exception": false,
     "start_time": "2024-06-14T14:32:42.423961",
     "status": "completed"
    },
    "tags": []
   },
   "outputs": [],
   "source": [
    "# Are there any outliers in the variables\n",
    "def has_outliers(dataframe, numeric_columns, plot=False):\n",
    "   # variable_names = []\n",
    "    for col in numeric_columns:\n",
    "        low_limit, up_limit = outlier_thresholds(dataframe, col)\n",
    "        if dataframe[(dataframe[col] > up_limit) | (dataframe[col] < low_limit)].any(axis=None):\n",
    "            number_of_outliers = dataframe[(dataframe[col] > up_limit) | (dataframe[col] < low_limit)].shape[0]\n",
    "            print(col, \" : \", number_of_outliers, \"outliers\")\n",
    "            #variable_names.append(col)\n",
    "            if plot:\n",
    "                sns.boxplot(x=dataframe[col])\n",
    "                plt.show()\n",
    "    #return variable_names"
   ]
  },
  {
   "cell_type": "code",
   "execution_count": 14,
   "id": "6244cd5e",
   "metadata": {
    "execution": {
     "iopub.execute_input": "2024-06-14T14:32:42.460994Z",
     "iopub.status.busy": "2024-06-14T14:32:42.460551Z",
     "iopub.status.idle": "2024-06-14T14:32:42.484336Z",
     "shell.execute_reply": "2024-06-14T14:32:42.482646Z"
    },
    "papermill": {
     "duration": 0.036271,
     "end_time": "2024-06-14T14:32:42.487143",
     "exception": false,
     "start_time": "2024-06-14T14:32:42.450872",
     "status": "completed"
    },
    "tags": []
   },
   "outputs": [
    {
     "name": "stdout",
     "output_type": "stream",
     "text": [
      "SeniorCitizen has  None Outliers\n",
      "tenure has  None Outliers\n",
      "Charges_Month has  None Outliers\n",
      "TotalCharges has  None Outliers\n"
     ]
    }
   ],
   "source": [
    "for var in numeric_variables:\n",
    "    print(var, \"has \" , has_outliers(ds_new, [var]),  \"Outliers\")"
   ]
  },
  {
   "cell_type": "code",
   "execution_count": 15,
   "id": "af8832da",
   "metadata": {
    "execution": {
     "iopub.execute_input": "2024-06-14T14:32:42.504695Z",
     "iopub.status.busy": "2024-06-14T14:32:42.504170Z",
     "iopub.status.idle": "2024-06-14T14:32:42.511239Z",
     "shell.execute_reply": "2024-06-14T14:32:42.510060Z"
    },
    "papermill": {
     "duration": 0.018719,
     "end_time": "2024-06-14T14:32:42.513632",
     "exception": false,
     "start_time": "2024-06-14T14:32:42.494913",
     "status": "completed"
    },
    "tags": []
   },
   "outputs": [],
   "source": [
    "#I converted columns which has \"yes\" , \"no\" values to \"0\" and \"1\"\n",
    "\n",
    "\n",
    "def convert_yes_no_to_numeric(df):\n",
    "    # Loop through each column in the DataFrame\n",
    "    for column in df.columns:\n",
    "        # Check if the column contains only \"Yes\" and \"No\" values\n",
    "        if df[column].dtype == 'object' and set(df[column].unique()) <= {\"Yes\", \"No\"}:\n",
    "            df[column] = df[column].map({\"Yes\": 1, \"No\": 0})\n",
    "    return df"
   ]
  },
  {
   "cell_type": "code",
   "execution_count": 16,
   "id": "b46ca185",
   "metadata": {
    "execution": {
     "iopub.execute_input": "2024-06-14T14:32:42.530990Z",
     "iopub.status.busy": "2024-06-14T14:32:42.530536Z",
     "iopub.status.idle": "2024-06-14T14:32:42.576949Z",
     "shell.execute_reply": "2024-06-14T14:32:42.575397Z"
    },
    "papermill": {
     "duration": 0.060076,
     "end_time": "2024-06-14T14:32:42.581716",
     "exception": false,
     "start_time": "2024-06-14T14:32:42.521640",
     "status": "completed"
    },
    "tags": []
   },
   "outputs": [
    {
     "name": "stderr",
     "output_type": "stream",
     "text": [
      "/tmp/ipykernel_18/40802915.py:9: SettingWithCopyWarning: \n",
      "A value is trying to be set on a copy of a slice from a DataFrame.\n",
      "Try using .loc[row_indexer,col_indexer] = value instead\n",
      "\n",
      "See the caveats in the documentation: https://pandas.pydata.org/pandas-docs/stable/user_guide/indexing.html#returning-a-view-versus-a-copy\n",
      "  df[column] = df[column].map({\"Yes\": 1, \"No\": 0})\n",
      "/tmp/ipykernel_18/40802915.py:9: SettingWithCopyWarning: \n",
      "A value is trying to be set on a copy of a slice from a DataFrame.\n",
      "Try using .loc[row_indexer,col_indexer] = value instead\n",
      "\n",
      "See the caveats in the documentation: https://pandas.pydata.org/pandas-docs/stable/user_guide/indexing.html#returning-a-view-versus-a-copy\n",
      "  df[column] = df[column].map({\"Yes\": 1, \"No\": 0})\n",
      "/tmp/ipykernel_18/40802915.py:9: SettingWithCopyWarning: \n",
      "A value is trying to be set on a copy of a slice from a DataFrame.\n",
      "Try using .loc[row_indexer,col_indexer] = value instead\n",
      "\n",
      "See the caveats in the documentation: https://pandas.pydata.org/pandas-docs/stable/user_guide/indexing.html#returning-a-view-versus-a-copy\n",
      "  df[column] = df[column].map({\"Yes\": 1, \"No\": 0})\n",
      "/tmp/ipykernel_18/40802915.py:9: SettingWithCopyWarning: \n",
      "A value is trying to be set on a copy of a slice from a DataFrame.\n",
      "Try using .loc[row_indexer,col_indexer] = value instead\n",
      "\n",
      "See the caveats in the documentation: https://pandas.pydata.org/pandas-docs/stable/user_guide/indexing.html#returning-a-view-versus-a-copy\n",
      "  df[column] = df[column].map({\"Yes\": 1, \"No\": 0})\n",
      "/tmp/ipykernel_18/40802915.py:9: SettingWithCopyWarning: \n",
      "A value is trying to be set on a copy of a slice from a DataFrame.\n",
      "Try using .loc[row_indexer,col_indexer] = value instead\n",
      "\n",
      "See the caveats in the documentation: https://pandas.pydata.org/pandas-docs/stable/user_guide/indexing.html#returning-a-view-versus-a-copy\n",
      "  df[column] = df[column].map({\"Yes\": 1, \"No\": 0})\n"
     ]
    },
    {
     "data": {
      "text/html": [
       "<div>\n",
       "<style scoped>\n",
       "    .dataframe tbody tr th:only-of-type {\n",
       "        vertical-align: middle;\n",
       "    }\n",
       "\n",
       "    .dataframe tbody tr th {\n",
       "        vertical-align: top;\n",
       "    }\n",
       "\n",
       "    .dataframe thead th {\n",
       "        text-align: right;\n",
       "    }\n",
       "</style>\n",
       "<table border=\"1\" class=\"dataframe\">\n",
       "  <thead>\n",
       "    <tr style=\"text-align: right;\">\n",
       "      <th></th>\n",
       "      <th>gender</th>\n",
       "      <th>SeniorCitizen</th>\n",
       "      <th>Partner</th>\n",
       "      <th>Dependents</th>\n",
       "      <th>tenure</th>\n",
       "      <th>PhoneService</th>\n",
       "      <th>MultipleLines</th>\n",
       "      <th>InternetService</th>\n",
       "      <th>OnlineSecurity</th>\n",
       "      <th>OnlineBackup</th>\n",
       "      <th>DeviceProtection</th>\n",
       "      <th>TechSupport</th>\n",
       "      <th>TV_Streaming</th>\n",
       "      <th>Movie_Streaming</th>\n",
       "      <th>Contract</th>\n",
       "      <th>PaperlessBilling</th>\n",
       "      <th>Method_Payment</th>\n",
       "      <th>Charges_Month</th>\n",
       "      <th>TotalCharges</th>\n",
       "      <th>Churn</th>\n",
       "    </tr>\n",
       "    <tr>\n",
       "      <th>cID</th>\n",
       "      <th></th>\n",
       "      <th></th>\n",
       "      <th></th>\n",
       "      <th></th>\n",
       "      <th></th>\n",
       "      <th></th>\n",
       "      <th></th>\n",
       "      <th></th>\n",
       "      <th></th>\n",
       "      <th></th>\n",
       "      <th></th>\n",
       "      <th></th>\n",
       "      <th></th>\n",
       "      <th></th>\n",
       "      <th></th>\n",
       "      <th></th>\n",
       "      <th></th>\n",
       "      <th></th>\n",
       "      <th></th>\n",
       "      <th></th>\n",
       "    </tr>\n",
       "  </thead>\n",
       "  <tbody>\n",
       "    <tr>\n",
       "      <th>4223-BKEOR</th>\n",
       "      <td>Female</td>\n",
       "      <td>0</td>\n",
       "      <td>0</td>\n",
       "      <td>1</td>\n",
       "      <td>21</td>\n",
       "      <td>1</td>\n",
       "      <td>No</td>\n",
       "      <td>DSL</td>\n",
       "      <td>Yes</td>\n",
       "      <td>No</td>\n",
       "      <td>Yes</td>\n",
       "      <td>No</td>\n",
       "      <td>No</td>\n",
       "      <td>Yes</td>\n",
       "      <td>One year</td>\n",
       "      <td>0</td>\n",
       "      <td>Mailed check</td>\n",
       "      <td>64.85</td>\n",
       "      <td>1336.80</td>\n",
       "      <td>0</td>\n",
       "    </tr>\n",
       "    <tr>\n",
       "      <th>6035-RIIOM</th>\n",
       "      <td>Female</td>\n",
       "      <td>0</td>\n",
       "      <td>0</td>\n",
       "      <td>0</td>\n",
       "      <td>54</td>\n",
       "      <td>1</td>\n",
       "      <td>Yes</td>\n",
       "      <td>Fiber optic</td>\n",
       "      <td>No</td>\n",
       "      <td>Yes</td>\n",
       "      <td>No</td>\n",
       "      <td>No</td>\n",
       "      <td>Yes</td>\n",
       "      <td>Yes</td>\n",
       "      <td>Two year</td>\n",
       "      <td>1</td>\n",
       "      <td>Bank transfer (automatic)</td>\n",
       "      <td>97.20</td>\n",
       "      <td>5129.45</td>\n",
       "      <td>0</td>\n",
       "    </tr>\n",
       "    <tr>\n",
       "      <th>3797-VTIDR</th>\n",
       "      <td>Male</td>\n",
       "      <td>0</td>\n",
       "      <td>1</td>\n",
       "      <td>0</td>\n",
       "      <td>1</td>\n",
       "      <td>0</td>\n",
       "      <td>No phone service</td>\n",
       "      <td>DSL</td>\n",
       "      <td>No</td>\n",
       "      <td>No</td>\n",
       "      <td>No</td>\n",
       "      <td>No</td>\n",
       "      <td>No</td>\n",
       "      <td>No</td>\n",
       "      <td>Month-to-month</td>\n",
       "      <td>1</td>\n",
       "      <td>Electronic check</td>\n",
       "      <td>23.45</td>\n",
       "      <td>23.45</td>\n",
       "      <td>1</td>\n",
       "    </tr>\n",
       "    <tr>\n",
       "      <th>2568-BRGYX</th>\n",
       "      <td>Male</td>\n",
       "      <td>0</td>\n",
       "      <td>0</td>\n",
       "      <td>0</td>\n",
       "      <td>4</td>\n",
       "      <td>1</td>\n",
       "      <td>No</td>\n",
       "      <td>Fiber optic</td>\n",
       "      <td>No</td>\n",
       "      <td>No</td>\n",
       "      <td>No</td>\n",
       "      <td>No</td>\n",
       "      <td>No</td>\n",
       "      <td>No</td>\n",
       "      <td>Month-to-month</td>\n",
       "      <td>1</td>\n",
       "      <td>Electronic check</td>\n",
       "      <td>70.20</td>\n",
       "      <td>237.95</td>\n",
       "      <td>1</td>\n",
       "    </tr>\n",
       "    <tr>\n",
       "      <th>4291-SHSBH</th>\n",
       "      <td>Male</td>\n",
       "      <td>0</td>\n",
       "      <td>0</td>\n",
       "      <td>0</td>\n",
       "      <td>7</td>\n",
       "      <td>1</td>\n",
       "      <td>No</td>\n",
       "      <td>Fiber optic</td>\n",
       "      <td>No</td>\n",
       "      <td>No</td>\n",
       "      <td>No</td>\n",
       "      <td>No</td>\n",
       "      <td>No</td>\n",
       "      <td>No</td>\n",
       "      <td>Month-to-month</td>\n",
       "      <td>1</td>\n",
       "      <td>Electronic check</td>\n",
       "      <td>69.55</td>\n",
       "      <td>521.35</td>\n",
       "      <td>0</td>\n",
       "    </tr>\n",
       "    <tr>\n",
       "      <th>...</th>\n",
       "      <td>...</td>\n",
       "      <td>...</td>\n",
       "      <td>...</td>\n",
       "      <td>...</td>\n",
       "      <td>...</td>\n",
       "      <td>...</td>\n",
       "      <td>...</td>\n",
       "      <td>...</td>\n",
       "      <td>...</td>\n",
       "      <td>...</td>\n",
       "      <td>...</td>\n",
       "      <td>...</td>\n",
       "      <td>...</td>\n",
       "      <td>...</td>\n",
       "      <td>...</td>\n",
       "      <td>...</td>\n",
       "      <td>...</td>\n",
       "      <td>...</td>\n",
       "      <td>...</td>\n",
       "      <td>...</td>\n",
       "    </tr>\n",
       "    <tr>\n",
       "      <th>0684-AOSIH</th>\n",
       "      <td>Male</td>\n",
       "      <td>0</td>\n",
       "      <td>1</td>\n",
       "      <td>0</td>\n",
       "      <td>1</td>\n",
       "      <td>1</td>\n",
       "      <td>No</td>\n",
       "      <td>Fiber optic</td>\n",
       "      <td>Yes</td>\n",
       "      <td>No</td>\n",
       "      <td>No</td>\n",
       "      <td>No</td>\n",
       "      <td>Yes</td>\n",
       "      <td>Yes</td>\n",
       "      <td>Month-to-month</td>\n",
       "      <td>1</td>\n",
       "      <td>Electronic check</td>\n",
       "      <td>95.00</td>\n",
       "      <td>95.00</td>\n",
       "      <td>1</td>\n",
       "    </tr>\n",
       "    <tr>\n",
       "      <th>5982-PSMKW</th>\n",
       "      <td>Female</td>\n",
       "      <td>0</td>\n",
       "      <td>1</td>\n",
       "      <td>1</td>\n",
       "      <td>23</td>\n",
       "      <td>1</td>\n",
       "      <td>Yes</td>\n",
       "      <td>DSL</td>\n",
       "      <td>Yes</td>\n",
       "      <td>Yes</td>\n",
       "      <td>Yes</td>\n",
       "      <td>Yes</td>\n",
       "      <td>Yes</td>\n",
       "      <td>Yes</td>\n",
       "      <td>Two year</td>\n",
       "      <td>1</td>\n",
       "      <td>Credit card (automatic)</td>\n",
       "      <td>91.10</td>\n",
       "      <td>2198.30</td>\n",
       "      <td>0</td>\n",
       "    </tr>\n",
       "    <tr>\n",
       "      <th>8044-BGWPI</th>\n",
       "      <td>Male</td>\n",
       "      <td>0</td>\n",
       "      <td>1</td>\n",
       "      <td>1</td>\n",
       "      <td>12</td>\n",
       "      <td>1</td>\n",
       "      <td>No</td>\n",
       "      <td>No</td>\n",
       "      <td>No internet service</td>\n",
       "      <td>No internet service</td>\n",
       "      <td>No internet service</td>\n",
       "      <td>No internet service</td>\n",
       "      <td>No internet service</td>\n",
       "      <td>No internet service</td>\n",
       "      <td>Month-to-month</td>\n",
       "      <td>1</td>\n",
       "      <td>Electronic check</td>\n",
       "      <td>21.15</td>\n",
       "      <td>306.05</td>\n",
       "      <td>0</td>\n",
       "    </tr>\n",
       "    <tr>\n",
       "      <th>7450-NWRTR</th>\n",
       "      <td>Male</td>\n",
       "      <td>1</td>\n",
       "      <td>0</td>\n",
       "      <td>0</td>\n",
       "      <td>12</td>\n",
       "      <td>1</td>\n",
       "      <td>Yes</td>\n",
       "      <td>Fiber optic</td>\n",
       "      <td>No</td>\n",
       "      <td>No</td>\n",
       "      <td>Yes</td>\n",
       "      <td>No</td>\n",
       "      <td>Yes</td>\n",
       "      <td>Yes</td>\n",
       "      <td>Month-to-month</td>\n",
       "      <td>1</td>\n",
       "      <td>Electronic check</td>\n",
       "      <td>99.45</td>\n",
       "      <td>1200.15</td>\n",
       "      <td>1</td>\n",
       "    </tr>\n",
       "    <tr>\n",
       "      <th>4795-UXVCJ</th>\n",
       "      <td>Male</td>\n",
       "      <td>0</td>\n",
       "      <td>0</td>\n",
       "      <td>0</td>\n",
       "      <td>26</td>\n",
       "      <td>1</td>\n",
       "      <td>No</td>\n",
       "      <td>No</td>\n",
       "      <td>No internet service</td>\n",
       "      <td>No internet service</td>\n",
       "      <td>No internet service</td>\n",
       "      <td>No internet service</td>\n",
       "      <td>No internet service</td>\n",
       "      <td>No internet service</td>\n",
       "      <td>One year</td>\n",
       "      <td>0</td>\n",
       "      <td>Credit card (automatic)</td>\n",
       "      <td>19.80</td>\n",
       "      <td>457.30</td>\n",
       "      <td>0</td>\n",
       "    </tr>\n",
       "  </tbody>\n",
       "</table>\n",
       "<p>5624 rows × 20 columns</p>\n",
       "</div>"
      ],
      "text/plain": [
       "            gender  SeniorCitizen  Partner  Dependents  tenure  PhoneService  \\\n",
       "cID                                                                            \n",
       "4223-BKEOR  Female              0        0           1      21             1   \n",
       "6035-RIIOM  Female              0        0           0      54             1   \n",
       "3797-VTIDR    Male              0        1           0       1             0   \n",
       "2568-BRGYX    Male              0        0           0       4             1   \n",
       "4291-SHSBH    Male              0        0           0       7             1   \n",
       "...            ...            ...      ...         ...     ...           ...   \n",
       "0684-AOSIH    Male              0        1           0       1             1   \n",
       "5982-PSMKW  Female              0        1           1      23             1   \n",
       "8044-BGWPI    Male              0        1           1      12             1   \n",
       "7450-NWRTR    Male              1        0           0      12             1   \n",
       "4795-UXVCJ    Male              0        0           0      26             1   \n",
       "\n",
       "               MultipleLines InternetService       OnlineSecurity  \\\n",
       "cID                                                                 \n",
       "4223-BKEOR                No             DSL                  Yes   \n",
       "6035-RIIOM               Yes     Fiber optic                   No   \n",
       "3797-VTIDR  No phone service             DSL                   No   \n",
       "2568-BRGYX                No     Fiber optic                   No   \n",
       "4291-SHSBH                No     Fiber optic                   No   \n",
       "...                      ...             ...                  ...   \n",
       "0684-AOSIH                No     Fiber optic                  Yes   \n",
       "5982-PSMKW               Yes             DSL                  Yes   \n",
       "8044-BGWPI                No              No  No internet service   \n",
       "7450-NWRTR               Yes     Fiber optic                   No   \n",
       "4795-UXVCJ                No              No  No internet service   \n",
       "\n",
       "                   OnlineBackup     DeviceProtection          TechSupport  \\\n",
       "cID                                                                         \n",
       "4223-BKEOR                   No                  Yes                   No   \n",
       "6035-RIIOM                  Yes                   No                   No   \n",
       "3797-VTIDR                   No                   No                   No   \n",
       "2568-BRGYX                   No                   No                   No   \n",
       "4291-SHSBH                   No                   No                   No   \n",
       "...                         ...                  ...                  ...   \n",
       "0684-AOSIH                   No                   No                   No   \n",
       "5982-PSMKW                  Yes                  Yes                  Yes   \n",
       "8044-BGWPI  No internet service  No internet service  No internet service   \n",
       "7450-NWRTR                   No                  Yes                   No   \n",
       "4795-UXVCJ  No internet service  No internet service  No internet service   \n",
       "\n",
       "                   TV_Streaming      Movie_Streaming        Contract  \\\n",
       "cID                                                                    \n",
       "4223-BKEOR                   No                  Yes        One year   \n",
       "6035-RIIOM                  Yes                  Yes        Two year   \n",
       "3797-VTIDR                   No                   No  Month-to-month   \n",
       "2568-BRGYX                   No                   No  Month-to-month   \n",
       "4291-SHSBH                   No                   No  Month-to-month   \n",
       "...                         ...                  ...             ...   \n",
       "0684-AOSIH                  Yes                  Yes  Month-to-month   \n",
       "5982-PSMKW                  Yes                  Yes        Two year   \n",
       "8044-BGWPI  No internet service  No internet service  Month-to-month   \n",
       "7450-NWRTR                  Yes                  Yes  Month-to-month   \n",
       "4795-UXVCJ  No internet service  No internet service        One year   \n",
       "\n",
       "            PaperlessBilling             Method_Payment  Charges_Month  \\\n",
       "cID                                                                      \n",
       "4223-BKEOR                 0               Mailed check          64.85   \n",
       "6035-RIIOM                 1  Bank transfer (automatic)          97.20   \n",
       "3797-VTIDR                 1           Electronic check          23.45   \n",
       "2568-BRGYX                 1           Electronic check          70.20   \n",
       "4291-SHSBH                 1           Electronic check          69.55   \n",
       "...                      ...                        ...            ...   \n",
       "0684-AOSIH                 1           Electronic check          95.00   \n",
       "5982-PSMKW                 1    Credit card (automatic)          91.10   \n",
       "8044-BGWPI                 1           Electronic check          21.15   \n",
       "7450-NWRTR                 1           Electronic check          99.45   \n",
       "4795-UXVCJ                 0    Credit card (automatic)          19.80   \n",
       "\n",
       "            TotalCharges  Churn  \n",
       "cID                              \n",
       "4223-BKEOR       1336.80      0  \n",
       "6035-RIIOM       5129.45      0  \n",
       "3797-VTIDR         23.45      1  \n",
       "2568-BRGYX        237.95      1  \n",
       "4291-SHSBH        521.35      0  \n",
       "...                  ...    ...  \n",
       "0684-AOSIH         95.00      1  \n",
       "5982-PSMKW       2198.30      0  \n",
       "8044-BGWPI        306.05      0  \n",
       "7450-NWRTR       1200.15      1  \n",
       "4795-UXVCJ        457.30      0  \n",
       "\n",
       "[5624 rows x 20 columns]"
      ]
     },
     "execution_count": 16,
     "metadata": {},
     "output_type": "execute_result"
    }
   ],
   "source": [
    "convert_yes_no_to_numeric(ds_new)"
   ]
  },
  {
   "cell_type": "code",
   "execution_count": 17,
   "id": "08ce0fd5",
   "metadata": {
    "execution": {
     "iopub.execute_input": "2024-06-14T14:32:42.601556Z",
     "iopub.status.busy": "2024-06-14T14:32:42.600448Z",
     "iopub.status.idle": "2024-06-14T14:32:42.661970Z",
     "shell.execute_reply": "2024-06-14T14:32:42.660572Z"
    },
    "papermill": {
     "duration": 0.074679,
     "end_time": "2024-06-14T14:32:42.665031",
     "exception": false,
     "start_time": "2024-06-14T14:32:42.590352",
     "status": "completed"
    },
    "tags": []
   },
   "outputs": [
    {
     "name": "stdout",
     "output_type": "stream",
     "text": [
      "            SeniorCitizen  Partner  Dependents  tenure  PhoneService  \\\n",
      "cID                                                                    \n",
      "4223-BKEOR              0        0           1      21             1   \n",
      "6035-RIIOM              0        0           0      54             1   \n",
      "3797-VTIDR              0        1           0       1             0   \n",
      "2568-BRGYX              0        0           0       4             1   \n",
      "4291-SHSBH              0        0           0       7             1   \n",
      "...                   ...      ...         ...     ...           ...   \n",
      "0684-AOSIH              0        1           0       1             1   \n",
      "5982-PSMKW              0        1           1      23             1   \n",
      "8044-BGWPI              0        1           1      12             1   \n",
      "7450-NWRTR              1        0           0      12             1   \n",
      "4795-UXVCJ              0        0           0      26             1   \n",
      "\n",
      "            PaperlessBilling  Charges_Month  TotalCharges  Churn  Female  ...  \\\n",
      "cID                                                                       ...   \n",
      "4223-BKEOR                 0             64          1336      0       1  ...   \n",
      "6035-RIIOM                 1             97          5129      0       1  ...   \n",
      "3797-VTIDR                 1             23            23      1       0  ...   \n",
      "2568-BRGYX                 1             70           237      1       0  ...   \n",
      "4291-SHSBH                 1             69           521      0       0  ...   \n",
      "...                      ...            ...           ...    ...     ...  ...   \n",
      "0684-AOSIH                 1             95            95      1       0  ...   \n",
      "5982-PSMKW                 1             91          2198      0       1  ...   \n",
      "8044-BGWPI                 1             21           306      0       0  ...   \n",
      "7450-NWRTR                 1             99          1200      1       0  ...   \n",
      "4795-UXVCJ                 0             19           457      0       0  ...   \n",
      "\n",
      "            Yes  Yes  Yes  Month-to-month  One year  Two year  \\\n",
      "cID                                                             \n",
      "4223-BKEOR    0    0    1               0         1         0   \n",
      "6035-RIIOM    0    1    1               0         0         1   \n",
      "3797-VTIDR    0    0    0               1         0         0   \n",
      "2568-BRGYX    0    0    0               1         0         0   \n",
      "4291-SHSBH    0    0    0               1         0         0   \n",
      "...         ...  ...  ...             ...       ...       ...   \n",
      "0684-AOSIH    0    1    1               1         0         0   \n",
      "5982-PSMKW    1    1    1               0         0         1   \n",
      "8044-BGWPI    0    0    0               1         0         0   \n",
      "7450-NWRTR    0    1    1               1         0         0   \n",
      "4795-UXVCJ    0    0    0               0         1         0   \n",
      "\n",
      "            Bank transfer (automatic)  Credit card (automatic)  \\\n",
      "cID                                                              \n",
      "4223-BKEOR                          0                        0   \n",
      "6035-RIIOM                          1                        0   \n",
      "3797-VTIDR                          0                        0   \n",
      "2568-BRGYX                          0                        0   \n",
      "4291-SHSBH                          0                        0   \n",
      "...                               ...                      ...   \n",
      "0684-AOSIH                          0                        0   \n",
      "5982-PSMKW                          0                        1   \n",
      "8044-BGWPI                          0                        0   \n",
      "7450-NWRTR                          0                        0   \n",
      "4795-UXVCJ                          0                        1   \n",
      "\n",
      "            Electronic check  Mailed check  \n",
      "cID                                         \n",
      "4223-BKEOR                 0             1  \n",
      "6035-RIIOM                 0             0  \n",
      "3797-VTIDR                 1             0  \n",
      "2568-BRGYX                 1             0  \n",
      "4291-SHSBH                 1             0  \n",
      "...                      ...           ...  \n",
      "0684-AOSIH                 1             0  \n",
      "5982-PSMKW                 0             0  \n",
      "8044-BGWPI                 1             0  \n",
      "7450-NWRTR                 1             0  \n",
      "4795-UXVCJ                 0             0  \n",
      "\n",
      "[5624 rows x 170 columns]\n"
     ]
    }
   ],
   "source": [
    "#for all other columns , I applied hot vector encoding\n",
    "\n",
    "def one_hot_encode_columns(df, columns):\n",
    "    # Apply one-hot encoding to the specified columns\n",
    "    df = pd.get_dummies(df, columns=columns, prefix='', prefix_sep='')\n",
    "    \n",
    "    # Optionally, reorder columns if needed (here it keeps the same order except encoded columns are moved to the end)\n",
    "    original_columns = [col for col in df.columns if col not in columns]\n",
    "    df = df[original_columns + [col for col in df.columns if col not in original_columns]]\n",
    "    \n",
    "    return df\n",
    "\n",
    "\n",
    "\n",
    "\n",
    "\n",
    "# Specify columns to apply one-hot encoding\n",
    "columns_to_encode = ['gender', 'MultipleLines', 'InternetService', 'OnlineSecurity', 'OnlineBackup', 'DeviceProtection','TechSupport','TV_Streaming','Movie_Streaming','Contract','Method_Payment']\n",
    "\n",
    "# Apply one-hot encoding\n",
    "df_encoded = one_hot_encode_columns(ds_new, columns_to_encode)\n",
    "df_encoded=df_encoded.astype(int)\n",
    "print(df_encoded)"
   ]
  },
  {
   "cell_type": "code",
   "execution_count": 18,
   "id": "a8c3ac00",
   "metadata": {
    "execution": {
     "iopub.execute_input": "2024-06-14T14:32:42.684901Z",
     "iopub.status.busy": "2024-06-14T14:32:42.684352Z",
     "iopub.status.idle": "2024-06-14T14:32:45.330067Z",
     "shell.execute_reply": "2024-06-14T14:32:45.328675Z"
    },
    "papermill": {
     "duration": 2.659534,
     "end_time": "2024-06-14T14:32:45.333174",
     "exception": false,
     "start_time": "2024-06-14T14:32:42.673640",
     "status": "completed"
    },
    "tags": []
   },
   "outputs": [],
   "source": [
    "#Its time to apply models\n",
    "from sklearn.preprocessing import StandardScaler\n",
    "from sklearn.model_selection import cross_val_predict\n",
    "from sklearn.metrics import f1_score, precision_score\n",
    "from sklearn.linear_model import LogisticRegression  \n",
    "from sklearn.neighbors import KNeighborsClassifier  \n",
    "from sklearn.svm import SVC\n",
    "from catboost import CatBoostClassifier\n",
    "from sklearn.ensemble import GradientBoostingClassifier\n",
    "from sklearn.tree import DecisionTreeClassifier \n",
    "from sklearn.ensemble import RandomForestClassifier\n",
    "\n",
    "from sklearn.model_selection import train_test_split\n",
    "from sklearn import preprocessing\n",
    "from sklearn.metrics import accuracy_score,recall_score\n",
    "from xgboost import XGBClassifier\n",
    "\n",
    "from sklearn.model_selection import cross_val_score, GridSearchCV\n",
    "X = df_encoded.drop(\"Churn\",axis=1)\n",
    "y = df_encoded[\"Churn\"]\n",
    "# Train-Test Separation\n",
    "X_train, X_test, y_train, y_test = train_test_split(X, y, test_size=0.20)\n",
    "scaler = StandardScaler()\n",
    "X_train_scaled = scaler.fit_transform(X_train)\n",
    "X_test_scaled = scaler.transform(X_test)\n",
    "\n",
    "\n",
    "\n",
    "\n",
    "   "
   ]
  },
  {
   "cell_type": "code",
   "execution_count": 19,
   "id": "63e9c7bd",
   "metadata": {
    "execution": {
     "iopub.execute_input": "2024-06-14T14:32:45.352640Z",
     "iopub.status.busy": "2024-06-14T14:32:45.352159Z",
     "iopub.status.idle": "2024-06-14T14:32:51.501346Z",
     "shell.execute_reply": "2024-06-14T14:32:51.499680Z"
    },
    "papermill": {
     "duration": 6.16283,
     "end_time": "2024-06-14T14:32:51.504804",
     "exception": false,
     "start_time": "2024-06-14T14:32:45.341974",
     "status": "completed"
    },
    "tags": []
   },
   "outputs": [
    {
     "name": "stdout",
     "output_type": "stream",
     "text": [
      "                    Model  Accuracy  F1 Score\n",
      "0     Logistic Regression  0.797333  0.577778\n",
      "1           Random Forest  0.774222  0.503906\n",
      "2  Support Vector Machine  0.793778  0.536000\n",
      "3     K-Nearest Neighbors  0.750222  0.519658\n",
      "4           Decision Tree  0.715556  0.455782\n",
      "5       Gradient Boosting  0.804444  0.565217\n"
     ]
    }
   ],
   "source": [
    "models = {\n",
    "    'Logistic Regression': LogisticRegression(max_iter=1000, solver='lbfgs'),\n",
    "    'Random Forest': RandomForestClassifier(),\n",
    "    'Support Vector Machine': SVC(),\n",
    "    'K-Nearest Neighbors': KNeighborsClassifier(),\n",
    "    'Decision Tree': DecisionTreeClassifier(),\n",
    "    'Gradient Boosting': GradientBoostingClassifier(),\n",
    "    \n",
    "}\n",
    "def evaluate_models(models, X_train, y_train, X_test, y_test):\n",
    "    results = []\n",
    "    for name, model in models.items():\n",
    "        # Train the model\n",
    "        model.fit(X_train, y_train)\n",
    "        # Make predictions\n",
    "        y_pred = model.predict(X_test)\n",
    "        # Calculate accuracy and F1 score\n",
    "        accuracy = accuracy_score(y_test, y_pred)\n",
    "        f1 = f1_score(y_test, y_pred)\n",
    "        # Append results\n",
    "        results.append({\n",
    "            'Model': name,\n",
    "            'Accuracy': accuracy,\n",
    "            'F1 Score': f1\n",
    "        })\n",
    "    return results\n",
    "\n",
    "# Evaluate the models\n",
    "results = evaluate_models(models, X_train_scaled, y_train, X_test_scaled, y_test)\n",
    "\n",
    "# Convert results to DataFrame and print\n",
    "results_df = pd.DataFrame(results)\n",
    "print(results_df)"
   ]
  },
  {
   "cell_type": "code",
   "execution_count": 20,
   "id": "00ba9cd8",
   "metadata": {
    "execution": {
     "iopub.execute_input": "2024-06-14T14:32:51.525699Z",
     "iopub.status.busy": "2024-06-14T14:32:51.525239Z",
     "iopub.status.idle": "2024-06-14T14:35:24.907316Z",
     "shell.execute_reply": "2024-06-14T14:35:24.905801Z"
    },
    "papermill": {
     "duration": 153.40335,
     "end_time": "2024-06-14T14:35:24.917850",
     "exception": false,
     "start_time": "2024-06-14T14:32:51.514500",
     "status": "completed"
    },
    "tags": []
   },
   "outputs": [
    {
     "name": "stdout",
     "output_type": "stream",
     "text": [
      "Best parameters for Random Forest: {'max_depth': 10, 'min_samples_split': 5, 'n_estimators': 100}\n",
      "Best F1 score for Random Forest: 0.5613456794197511\n"
     ]
    }
   ],
   "source": [
    "# tuning the model\n",
    "from sklearn.model_selection import GridSearchCV\n",
    "\n",
    "# Define the parameter grid for Random Forest\n",
    "param_grid_rf = {\n",
    "    'n_estimators': [50, 100, 200],\n",
    "    'max_depth': [None, 10, 20, 30],\n",
    "    'min_samples_split': [2, 5, 10]\n",
    "}\n",
    "\n",
    "# Instantiate the model\n",
    "rf = RandomForestClassifier()\n",
    "\n",
    "# Perform grid search\n",
    "grid_search_rf = GridSearchCV(estimator=rf, param_grid=param_grid_rf, cv=5, scoring='f1')\n",
    "grid_search_rf.fit(X_train_scaled, y_train)\n",
    "\n",
    "# Print the best parameters and best score\n",
    "print(\"Best parameters for Random Forest:\", grid_search_rf.best_params_)\n",
    "print(\"Best F1 score for Random Forest:\", grid_search_rf.best_score_)"
   ]
  },
  {
   "cell_type": "code",
   "execution_count": 21,
   "id": "53f502ea",
   "metadata": {
    "execution": {
     "iopub.execute_input": "2024-06-14T14:35:24.936588Z",
     "iopub.status.busy": "2024-06-14T14:35:24.936117Z",
     "iopub.status.idle": "2024-06-14T14:35:25.745127Z",
     "shell.execute_reply": "2024-06-14T14:35:25.743588Z"
    },
    "papermill": {
     "duration": 0.822064,
     "end_time": "2024-06-14T14:35:25.748189",
     "exception": false,
     "start_time": "2024-06-14T14:35:24.926125",
     "status": "completed"
    },
    "tags": []
   },
   "outputs": [
    {
     "name": "stdout",
     "output_type": "stream",
     "text": [
      "0.7928888888888889 0.5404339250493098\n"
     ]
    }
   ],
   "source": [
    "updated_model = RandomForestClassifier(max_depth=10, min_samples_split= 2,n_estimators= 100)\n",
    "updated_model.fit(X_train_scaled, y_train)\n",
    "        # Make predictions\n",
    "y_pred = updated_model.predict(X_test_scaled)\n",
    "        # Calculate accuracy and F1 score\n",
    "accuracy = accuracy_score(y_test, y_pred)\n",
    "f1 = f1_score(y_test, y_pred)\n",
    "print(accuracy,f1)"
   ]
  },
  {
   "cell_type": "code",
   "execution_count": 22,
   "id": "817ace5f",
   "metadata": {
    "execution": {
     "iopub.execute_input": "2024-06-14T14:35:25.768450Z",
     "iopub.status.busy": "2024-06-14T14:35:25.767899Z",
     "iopub.status.idle": "2024-06-14T14:35:37.654948Z",
     "shell.execute_reply": "2024-06-14T14:35:37.653291Z"
    },
    "papermill": {
     "duration": 11.900944,
     "end_time": "2024-06-14T14:35:37.658163",
     "exception": false,
     "start_time": "2024-06-14T14:35:25.757219",
     "status": "completed"
    },
    "tags": []
   },
   "outputs": [
    {
     "name": "stdout",
     "output_type": "stream",
     "text": [
      "Voting Classifier Accuracy: 0.8044444444444444\n",
      "Voting Classifier F1 Score: 0.5564516129032259\n"
     ]
    }
   ],
   "source": [
    "from sklearn.ensemble import VotingClassifier\n",
    "\n",
    "# Create a voting classifier\n",
    "voting_clf = VotingClassifier(estimators=[\n",
    "    ('lr', LogisticRegression(max_iter=1000)),\n",
    "    ('rf', RandomForestClassifier(**grid_search_rf.best_params_)),\n",
    "    ('svc', SVC(probability=True)),\n",
    "    ('gb', GradientBoostingClassifier())\n",
    "], voting='soft')\n",
    "\n",
    "# Train the voting classifier\n",
    "voting_clf.fit(X_train_scaled, y_train)\n",
    "\n",
    "# Evaluate the voting classifier\n",
    "y_pred_voting = voting_clf.predict(X_test_scaled)\n",
    "accuracy_voting = accuracy_score(y_test, y_pred_voting)\n",
    "f1_voting = f1_score(y_test, y_pred_voting)\n",
    "\n",
    "print(\"Voting Classifier Accuracy:\", accuracy_voting)\n",
    "print(\"Voting Classifier F1 Score:\", f1_voting)"
   ]
  },
  {
   "cell_type": "code",
   "execution_count": 23,
   "id": "2aea4fd0",
   "metadata": {
    "execution": {
     "iopub.execute_input": "2024-06-14T14:35:37.679538Z",
     "iopub.status.busy": "2024-06-14T14:35:37.679072Z",
     "iopub.status.idle": "2024-06-14T14:35:37.747647Z",
     "shell.execute_reply": "2024-06-14T14:35:37.746380Z"
    },
    "papermill": {
     "duration": 0.082358,
     "end_time": "2024-06-14T14:35:37.750161",
     "exception": false,
     "start_time": "2024-06-14T14:35:37.667803",
     "status": "completed"
    },
    "tags": []
   },
   "outputs": [
    {
     "data": {
      "text/plain": [
       "['best_random_forest_model.pkl']"
      ]
     },
     "execution_count": 23,
     "metadata": {},
     "output_type": "execute_result"
    }
   ],
   "source": [
    "import joblib\n",
    "\n",
    "# Save the best model\n",
    "joblib.dump(grid_search_rf.best_estimator_, 'best_random_forest_model.pkl')\n"
   ]
  }
 ],
 "metadata": {
  "kaggle": {
   "accelerator": "none",
   "dataSources": [
    {
     "datasetId": 5190104,
     "sourceId": 8662271,
     "sourceType": "datasetVersion"
    }
   ],
   "dockerImageVersionId": 30732,
   "isGpuEnabled": false,
   "isInternetEnabled": true,
   "language": "python",
   "sourceType": "notebook"
  },
  "kernelspec": {
   "display_name": "Python 3",
   "language": "python",
   "name": "python3"
  },
  "language_info": {
   "codemirror_mode": {
    "name": "ipython",
    "version": 3
   },
   "file_extension": ".py",
   "mimetype": "text/x-python",
   "name": "python",
   "nbconvert_exporter": "python",
   "pygments_lexer": "ipython3",
   "version": "3.10.13"
  },
  "papermill": {
   "default_parameters": {},
   "duration": 181.280121,
   "end_time": "2024-06-14T14:35:38.684807",
   "environment_variables": {},
   "exception": null,
   "input_path": "__notebook__.ipynb",
   "output_path": "__notebook__.ipynb",
   "parameters": {},
   "start_time": "2024-06-14T14:32:37.404686",
   "version": "2.5.0"
  }
 },
 "nbformat": 4,
 "nbformat_minor": 5
}
